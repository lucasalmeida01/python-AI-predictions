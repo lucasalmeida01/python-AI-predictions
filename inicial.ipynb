{
 "cells": [
  {
   "cell_type": "markdown",
   "metadata": {},
   "source": [
    "# Projeto Python IA: Inteligência Artificial e Previsões\n",
    "\n",
    "### Case: Score de Crédito dos Clientes\n",
    "\n",
    "O objetivo é definir o score de crédito dos clientes, analisando todos os clientes do banco e, com base nessa análise, criar um modelo que consiga ler as informações do cliente e dizer automaticamente o score de crédito dele: Ruim, Ok, Bom"
   ]
  },
  {
   "cell_type": "code",
   "execution_count": null,
   "metadata": {},
   "outputs": [],
   "source": [
    "#vamos usar as bibliotecas:\n",
    "#pandas -> trabalhar com dados\n",
    "#scikit-learn -> trabalhar com IA\n",
    "%pip install pandas scikit-learn"
   ]
  },
  {
   "cell_type": "code",
   "execution_count": null,
   "metadata": {},
   "outputs": [],
   "source": [
    "import pandas as pd \n",
    "\n",
    "#passo 1 -> importar a base de dados\n",
    "tabela = pd.read_csv(\"clientes.csv\")\n",
    "display(tabela)\n",
    "\n",
    "#analisando os dados buscando entender o tipo de cada coluna, se temos valores vazios, etc:\n",
    "display(tabela.info())\n"
   ]
  },
  {
   "cell_type": "code",
   "execution_count": null,
   "metadata": {},
   "outputs": [],
   "source": [
    "#passo 2 -> preparar a base de dados para IA\n",
    "#etapa LabelEncoder\n",
    "#precisamos transformar os dados que serão estudados em formato numérico\n",
    "from sklearn.preprocessing import LabelEncoder\n",
    "\n",
    "codificador = LabelEncoder()\n",
    "\n",
    "#processo de LabelEncoder nas colunas com informações do tipo texto, transformando em numérico\n",
    "tabela[\"profissao\"] = codificador.fit_transform(tabela[\"profissao\"])\n",
    "\n",
    "tabela[\"mix_credito\"] = codificador.fit_transform(tabela[\"mix_credito\"])\n",
    "\n",
    "tabela[\"comportamento_pagamento\"] = codificador.fit_transform(tabela[\"comportamento_pagamento\"])\n",
    "\n",
    "display(tabela)\n",
    "display(tabela.info())"
   ]
  },
  {
   "cell_type": "code",
   "execution_count": null,
   "metadata": {},
   "outputs": [],
   "source": [
    "#etapa de divisões -> vamos dividir nossa base duas vezes\n",
    "#Y = quem queremos prever\n",
    "#X = quem queremos usar para fazer a previsão (retirar as colunas inúteis para previsão, como ID's)\n",
    "y = tabela[\"score_credito\"]\n",
    "x = tabela.drop(columns=[\"score_credito\", \"id_cliente\"])\n",
    "\n",
    "#divisão treino e teste -> separar nossa base em dados de treino e dados de teste, com os dados de treino a IA irá aprender e depois treinará com dados de teste\n",
    "from sklearn.model_selection import train_test_split\n",
    "\n",
    "#precisa seguir a ordem:\n",
    "x_treino, x_teste, y_treino, y_teste = train_test_split(x, y)"
   ]
  },
  {
   "cell_type": "code",
   "execution_count": null,
   "metadata": {},
   "outputs": [],
   "source": [
    "#passo 3 - criar um modelo de IA\n",
    "#vamos usar 2 modelos -> árvore de decisão e KNN(K-Nearest Neighbors)\n",
    "from sklearn.ensemble import RandomForestClassifier\n",
    "from sklearn.neighbors import KNeighborsClassifier\n",
    "\n",
    "#criando a IA\n",
    "modelo_arvoredecisao = RandomForestClassifier()\n",
    "modelo_knn = KNeighborsClassifier()\n",
    "\n",
    "#treinando a IA\n",
    "modelo_arvoredecisao.fit(x_treino, y_treino)\n",
    "modelo_knn.fit(x_treino, y_treino)"
   ]
  },
  {
   "cell_type": "code",
   "execution_count": null,
   "metadata": {},
   "outputs": [],
   "source": [
    "#passo 4 - escolher qual o melhor para fazer nossas previsões\n",
    "#testando os modelos \n",
    "previsao_arvoredecisao = modelo_arvoredecisao.predict(x_teste)\n",
    "previsao_knn = modelo_knn.predict(x_teste)\n",
    "\n",
    "#calculando a precisão dessa previsão (Acurácia - quanto ele acertou e quanto ele errou, comparando o resultado dos testes com a previsão da IA)\n",
    "from sklearn.metrics import accuracy_score\n",
    "\n",
    "print(accuracy_score(y_teste, previsao_arvoredecisao))\n",
    "print(accuracy_score(y_teste, previsao_knn))"
   ]
  },
  {
   "cell_type": "code",
   "execution_count": null,
   "metadata": {},
   "outputs": [],
   "source": [
    "#passo 5 - usar a IA com novos dados\n",
    "tabela_nova = pd.read_csv(\"novos_clientes.csv\")\n",
    "\n",
    "#vamos repetir o processo de LabelEncoder\n",
    "tabela_nova[\"profissao\"] = codificador.fit_transform(tabela_nova[\"profissao\"])\n",
    "\n",
    "tabela_nova[\"mix_credito\"] = codificador.fit_transform(tabela_nova[\"mix_credito\"])\n",
    "\n",
    "tabela_nova[\"comportamento_pagamento\"] = codificador.fit_transform(tabela_nova[\"comportamento_pagamento\"])\n",
    "\n",
    "#conseguimos agora realizar previsão do score de novos clientes \n",
    "previsoes = modelo_arvoredecisao.predict(tabela_nova)\n",
    "display(previsoes)"
   ]
  }
 ],
 "metadata": {
  "kernelspec": {
   "display_name": "Python 3",
   "language": "python",
   "name": "python3"
  },
  "language_info": {
   "codemirror_mode": {
    "name": "ipython",
    "version": 3
   },
   "file_extension": ".py",
   "mimetype": "text/x-python",
   "name": "python",
   "nbconvert_exporter": "python",
   "pygments_lexer": "ipython3",
   "version": "3.12.0"
  },
  "orig_nbformat": 4
 },
 "nbformat": 4,
 "nbformat_minor": 2
}
